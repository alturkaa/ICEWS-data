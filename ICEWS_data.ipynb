{
 "cells": [
  {
   "cell_type": "markdown",
   "metadata": {},
   "source": [
    "# Looking at Protests with ICEWS Data\n",
    "\n",
    "A lot of this is adapted from [David Masad's work](https://gist.github.com/dmasad/f79ce5abfd4fb61d253b)\n"
   ]
  },
  {
   "cell_type": "code",
   "execution_count": 190,
   "metadata": {
    "collapsed": false
   },
   "outputs": [],
   "source": [
    "import os\n",
    "from collections import defaultdict\n",
    "\n",
    "# Other libraries\n",
    "import numpy as np\n",
    "import pandas as pd\n",
    "import matplotlib.pyplot as plt\n",
    "#from mpl_toolkits.basemap import Basemap\n",
    "# Show plots inline\n",
    "%matplotlib inline"
   ]
  },
  {
   "cell_type": "markdown",
   "metadata": {},
   "source": [
    "# Downloading the data\n",
    "\n",
    "The ICEWS yearly data is available at the [Harvard Dataverse](https://dataverse.harvard.edu/dataset.xhtml?persistentId=doi:10.7910/DVN/28075)."
   ]
  },
  {
   "cell_type": "markdown",
   "metadata": {},
   "source": [
    "# Loading the data"
   ]
  },
  {
   "cell_type": "code",
   "execution_count": 2,
   "metadata": {
    "collapsed": false
   },
   "outputs": [],
   "source": [
    "# Path to directory where the data is stored\n",
    "data_loc = \"\\Box Sync\\Research\\Inequality\\Data\\ICEWS\""
   ]
  },
  {
   "cell_type": "code",
   "execution_count": null,
   "metadata": {
    "collapsed": true
   },
   "outputs": [],
   "source": [
    "cur_dir"
   ]
  },
  {
   "cell_type": "code",
   "execution_count": 4,
   "metadata": {
    "collapsed": false
   },
   "outputs": [],
   "source": [
    "full_path = cur_dir + data_loc + '\\\\'"
   ]
  },
  {
   "cell_type": "code",
   "execution_count": 141,
   "metadata": {
    "collapsed": false
   },
   "outputs": [
    {
     "name": "stdout",
     "output_type": "stream",
     "text": [
      "events.1995.20150313082510.tab\n",
      "events.1996.20150313082528.tab\n",
      "events.1997.20150313082554.tab\n",
      "events.1998.20150313082622.tab\n",
      "events.1999.20150313082705.tab\n",
      "events.2000.20150313082808.tab\n",
      "events.2001.20150313082922.tab\n",
      "events.2002.20150313083053.tab\n",
      "events.2003.20150313083228.tab\n",
      "events.2004.20150313083407.tab\n",
      "events.2005.20150313083555.tab\n",
      "events.2006.20150313083752.tab\n",
      "events.2007.20150313083959.tab\n",
      "events.2008.20150313084156.tab\n",
      "events.2009.20150313084349.tab\n",
      "events.2010.20150313084533.tab\n",
      "events.2011.20150313084656.tab\n",
      "events.2012.20150313084811.tab\n",
      "events.2013.20150313084929.tab\n",
      "events.2014.20160121105408.tab\n",
      "events.2015.20160708082017.tab\n"
     ]
    }
   ],
   "source": [
    "all_events = []\n",
    "\n",
    "for f in os.listdir(full_path):\n",
    "    if f[-3:] == 'tab':\n",
    "        for g in os.listdir(full_path + f):\n",
    "            print g\n",
    "            # add parse_dates to read the second column as a date\n",
    "            df = pd.read_csv(full_path + f + '\\\\' + g, sep='\\t', parse_dates=[1])\n",
    "            #add underscore in case you want to use Pandas period notation\n",
    "            cols = {col: col.replace(\" \", \"_\") for col in df.columns}\n",
    "            df.rename(columns=cols, inplace=True)\n",
    "            all_events.append(df)"
   ]
  },
  {
   "cell_type": "markdown",
   "metadata": {},
   "source": [
    "##### Note: Concatenating the year files into one dataframe (next cell) takes a really long time. And exporting gives you a 9 GB file."
   ]
  },
  {
   "cell_type": "code",
   "execution_count": null,
   "metadata": {
    "collapsed": true
   },
   "outputs": [],
   "source": [
    "events_allyears = pd.concat(all_events)"
   ]
  },
  {
   "cell_type": "code",
   "execution_count": 56,
   "metadata": {
    "collapsed": false
   },
   "outputs": [],
   "source": [
    "#events_allyears.to_csv(full_path + 'events_allyears_v1.csv')"
   ]
  },
  {
   "cell_type": "code",
   "execution_count": 48,
   "metadata": {
    "collapsed": false
   },
   "outputs": [
    {
     "name": "stdout",
     "output_type": "stream",
     "text": [
      "events.1995.20150313082510.tab\n",
      "events.1996.20150313082528.tab\n",
      "events.1997.20150313082554.tab\n",
      "events.1998.20150313082622.tab\n",
      "events.1999.20150313082705.tab\n",
      "events.2000.20150313082808.tab\n",
      "events.2001.20150313082922.tab\n",
      "events.2002.20150313083053.tab\n",
      "events.2003.20150313083228.tab\n",
      "events.2004.20150313083407.tab\n",
      "events.2005.20150313083555.tab\n",
      "events.2006.20150313083752.tab\n",
      "events.2007.20150313083959.tab\n",
      "events.2008.20150313084156.tab\n",
      "events.2009.20150313084349.tab\n",
      "events.2010.20150313084533.tab\n",
      "events.2011.20150313084656.tab\n",
      "events.2012.20150313084811.tab\n",
      "events.2013.20150313084929.tab\n",
      "events.2014.20160121105408.tab\n",
      "events.2015.20160708082017.tab\n"
     ]
    }
   ],
   "source": [
    "all_protests = []\n",
    "\n",
    "for f in os.listdir(full_path):\n",
    "    if f[-3:] == 'tab':\n",
    "        for g in os.listdir(full_path + f):\n",
    "            print g\n",
    "            df = pd.read_csv(full_path + f + '\\\\' + g, sep='\\t', parse_dates=[1])\n",
    "            cols = {col: col.replace(\" \", \"_\") for col in df.columns}\n",
    "            df.rename(columns=cols, inplace=True)\n",
    "            # convert number (for CAMEO code) to string; should've done this on import\n",
    "            def cam_str(num):\n",
    "                return str(num)\n",
    "            # create column with protest_dummy\n",
    "            def cam_protest(text):\n",
    "                code = text[:2]\n",
    "                if code == '14':\n",
    "                    return 1\n",
    "                else:\n",
    "                    return 0\n",
    "            df['CAMEO_str'] = df['CAMEO_Code'].apply(cam_str)\n",
    "            df['protest_dummy'] = df['CAMEO_str'].apply(cam_protest)\n",
    "            # get subset of data (just protests)\n",
    "            protest_data = df[df['protest_dummy'] == 1]\n",
    "            all_protests.append(protest_data)"
   ]
  },
  {
   "cell_type": "code",
   "execution_count": null,
   "metadata": {
    "collapsed": true
   },
   "outputs": [],
   "source": [
    "protests_allyears = pd.concat(all_protests)"
   ]
  },
  {
   "cell_type": "code",
   "execution_count": 56,
   "metadata": {
    "collapsed": false
   },
   "outputs": [],
   "source": [
    "#protests_allyears.to_csv(full_path + 'protests_allyears_v1.csv')"
   ]
  },
  {
   "cell_type": "code",
   "execution_count": 6,
   "metadata": {
    "collapsed": true
   },
   "outputs": [],
   "source": [
    "#events_allyears = pd.read_csv(full_path + 'events_allyears_v1.csv')"
   ]
  },
  {
   "cell_type": "code",
   "execution_count": 34,
   "metadata": {
    "collapsed": true
   },
   "outputs": [],
   "source": [
    "#protests_allyears = pd.read_csv(full_path + 'protests_allyears_v1.csv')"
   ]
  },
  {
   "cell_type": "code",
   "execution_count": 41,
   "metadata": {
    "collapsed": true
   },
   "outputs": [],
   "source": [
    "# convert to datetime format for analysis (if importing from .csv)\n",
    "\n",
    "protests_allyears['Event_Date'] =  pd.to_datetime(protests_allyears['Event_Date'], format='%Y-%M-%d')"
   ]
  },
  {
   "cell_type": "code",
   "execution_count": null,
   "metadata": {
    "collapsed": true
   },
   "outputs": [],
   "source": [
    "# add year and month columns (can do this if Event_Date column is in datetime format)\n",
    "\n",
    "protests_allyears['year'] = protests_allyears['Event_Date'].dt.year\n",
    "\n",
    "protests_allyears['month'] = protests_allyears['Event_Date'].dt.month"
   ]
  },
  {
   "cell_type": "code",
   "execution_count": 12,
   "metadata": {
    "collapsed": false
   },
   "outputs": [],
   "source": [
    "# convert to datetime for other dataframe\n",
    "\n",
    "events_allyears['Event_Date'] =  pd.to_datetime(events_allyears['Event_Date'], format='%Y-%M-%d')"
   ]
  },
  {
   "cell_type": "code",
   "execution_count": 18,
   "metadata": {
    "collapsed": true
   },
   "outputs": [],
   "source": [
    "# again, add month and year columns\n",
    "\n",
    "events_allyears['year'] = events_allyears['Event_Date'].dt.year\n",
    "\n",
    "events_allyears['month'] = events_allyears['Event_Date'].dt.month"
   ]
  },
  {
   "cell_type": "markdown",
   "metadata": {},
   "source": [
    "### Quick look at data"
   ]
  },
  {
   "cell_type": "code",
   "execution_count": 81,
   "metadata": {
    "collapsed": false
   },
   "outputs": [
    {
     "data": {
      "text/plain": [
       "Index([u'Unnamed: 0', u'Event_ID', u'Event_Date', u'Source_Name',\n",
       "       u'Source_Sectors', u'Source_Country', u'Event_Text', u'CAMEO_Code',\n",
       "       u'Intensity', u'Target_Name', u'Target_Sectors', u'Target_Country',\n",
       "       u'Story_ID', u'Sentence_Number', u'Publisher', u'City', u'District',\n",
       "       u'Province', u'Country', u'Latitude', u'Longitude', u'CAMEO_str',\n",
       "       u'protest_dummy', u'year', u'month'],\n",
       "      dtype='object')"
      ]
     },
     "execution_count": 81,
     "metadata": {},
     "output_type": "execute_result"
    }
   ],
   "source": [
    "protests_allyears.columns"
   ]
  },
  {
   "cell_type": "markdown",
   "metadata": {},
   "source": [
    "#### All events data (for all 21 years) has 14.7 million records; protests subset has about 375,000 records"
   ]
  },
  {
   "cell_type": "code",
   "execution_count": 210,
   "metadata": {
    "collapsed": false
   },
   "outputs": [
    {
     "name": "stdout",
     "output_type": "stream",
     "text": [
      "(375384, 25)\n",
      "(14715575, 23)\n"
     ]
    }
   ],
   "source": [
    "print protests_allyears.shape\n",
    "print events_allyears.shape"
   ]
  },
  {
   "cell_type": "code",
   "execution_count": 212,
   "metadata": {
    "collapsed": false
   },
   "outputs": [
    {
     "data": {
      "text/plain": [
       "Unnamed: 0                 int64\n",
       "Event_ID                   int64\n",
       "Event_Date        datetime64[ns]\n",
       "Source_Name               object\n",
       "Source_Sectors            object\n",
       "dtype: object"
      ]
     },
     "execution_count": 212,
     "metadata": {},
     "output_type": "execute_result"
    }
   ],
   "source": [
    "# look at data types of variables\n",
    "\n",
    "events_allyears.dtypes.head()"
   ]
  },
  {
   "cell_type": "code",
   "execution_count": 208,
   "metadata": {
    "collapsed": false
   },
   "outputs": [
    {
     "data": {
      "text/html": [
       "<div>\n",
       "<table border=\"1\" class=\"dataframe\">\n",
       "  <thead>\n",
       "    <tr style=\"text-align: right;\">\n",
       "      <th></th>\n",
       "      <th>Unnamed: 0</th>\n",
       "      <th>Event_ID</th>\n",
       "      <th>Event_Date</th>\n",
       "      <th>Source_Name</th>\n",
       "      <th>Source_Sectors</th>\n",
       "      <th>Source_Country</th>\n",
       "      <th>Event_Text</th>\n",
       "      <th>CAMEO_Code</th>\n",
       "      <th>Intensity</th>\n",
       "      <th>Target_Name</th>\n",
       "      <th>...</th>\n",
       "      <th>City</th>\n",
       "      <th>District</th>\n",
       "      <th>Province</th>\n",
       "      <th>Country</th>\n",
       "      <th>Latitude</th>\n",
       "      <th>Longitude</th>\n",
       "      <th>CAMEO_str</th>\n",
       "      <th>protest_dummy</th>\n",
       "      <th>year</th>\n",
       "      <th>month</th>\n",
       "    </tr>\n",
       "  </thead>\n",
       "  <tbody>\n",
       "    <tr>\n",
       "      <th>0</th>\n",
       "      <td>12</td>\n",
       "      <td>926701</td>\n",
       "      <td>1995-01-01 00:01:00</td>\n",
       "      <td>Protester (Mexico)</td>\n",
       "      <td>Protestors / Popular Opposition / Mobs,Dissident</td>\n",
       "      <td>Mexico</td>\n",
       "      <td>Demonstrate for leadership change</td>\n",
       "      <td>1411</td>\n",
       "      <td>-6.5</td>\n",
       "      <td>Governor (Mexico)</td>\n",
       "      <td>...</td>\n",
       "      <td>Tabasco</td>\n",
       "      <td>Jose Maria Morelos</td>\n",
       "      <td>Estado de Quintana Roo</td>\n",
       "      <td>Mexico</td>\n",
       "      <td>19.9786</td>\n",
       "      <td>-88.6850</td>\n",
       "      <td>1411</td>\n",
       "      <td>1</td>\n",
       "      <td>1995</td>\n",
       "      <td>1</td>\n",
       "    </tr>\n",
       "    <tr>\n",
       "      <th>1</th>\n",
       "      <td>21</td>\n",
       "      <td>926711</td>\n",
       "      <td>1995-01-01 00:01:00</td>\n",
       "      <td>Main Opposition (Mexico)</td>\n",
       "      <td>Protestors / Popular Opposition / Mobs,Dissident</td>\n",
       "      <td>Mexico</td>\n",
       "      <td>Consider policy option</td>\n",
       "      <td>14</td>\n",
       "      <td>0.0</td>\n",
       "      <td>Carlos Salinas De Gortari</td>\n",
       "      <td>...</td>\n",
       "      <td>NaN</td>\n",
       "      <td>NaN</td>\n",
       "      <td>NaN</td>\n",
       "      <td>Mexico</td>\n",
       "      <td>19.4285</td>\n",
       "      <td>-99.1277</td>\n",
       "      <td>14</td>\n",
       "      <td>1</td>\n",
       "      <td>1995</td>\n",
       "      <td>1</td>\n",
       "    </tr>\n",
       "  </tbody>\n",
       "</table>\n",
       "<p>2 rows × 25 columns</p>\n",
       "</div>"
      ],
      "text/plain": [
       "   Unnamed: 0 Event_ID          Event_Date               Source_Name  \\\n",
       "0          12   926701 1995-01-01 00:01:00        Protester (Mexico)   \n",
       "1          21   926711 1995-01-01 00:01:00  Main Opposition (Mexico)   \n",
       "\n",
       "                                     Source_Sectors Source_Country  \\\n",
       "0  Protestors / Popular Opposition / Mobs,Dissident         Mexico   \n",
       "1  Protestors / Popular Opposition / Mobs,Dissident         Mexico   \n",
       "\n",
       "                          Event_Text  CAMEO_Code  Intensity  \\\n",
       "0  Demonstrate for leadership change        1411       -6.5   \n",
       "1             Consider policy option          14        0.0   \n",
       "\n",
       "                 Target_Name  ...       City            District  \\\n",
       "0          Governor (Mexico)  ...    Tabasco  Jose Maria Morelos   \n",
       "1  Carlos Salinas De Gortari  ...        NaN                 NaN   \n",
       "\n",
       "                 Province  Country Latitude Longitude CAMEO_str protest_dummy  \\\n",
       "0  Estado de Quintana Roo   Mexico  19.9786  -88.6850      1411             1   \n",
       "1                     NaN   Mexico  19.4285  -99.1277        14             1   \n",
       "\n",
       "   year  month  \n",
       "0  1995      1  \n",
       "1  1995      1  \n",
       "\n",
       "[2 rows x 25 columns]"
      ]
     },
     "execution_count": 208,
     "metadata": {},
     "output_type": "execute_result"
    }
   ],
   "source": [
    "protests_allyears.head(2)"
   ]
  },
  {
   "cell_type": "code",
   "execution_count": 213,
   "metadata": {
    "collapsed": false
   },
   "outputs": [
    {
     "data": {
      "text/plain": [
       "2006    1118996\n",
       "2005    1013400\n",
       "2007    1011161\n",
       "2008     980879\n",
       "2004     953820\n",
       "2009     857511\n",
       "2003     850489\n",
       "2014     837053\n",
       "2002     825060\n",
       "2001     797924\n",
       "Name: year, dtype: int64"
      ]
     },
     "execution_count": 213,
     "metadata": {},
     "output_type": "execute_result"
    }
   ],
   "source": [
    "# how many events per year?\n",
    "\n",
    "events_allyears['year'].value_counts().head(10)"
   ]
  },
  {
   "cell_type": "code",
   "execution_count": 32,
   "metadata": {
    "collapsed": false
   },
   "outputs": [
    {
     "data": {
      "text/plain": [
       "count     14713550\n",
       "unique         250\n",
       "top          India\n",
       "freq        929299\n",
       "Name: Country, dtype: object"
      ]
     },
     "execution_count": 32,
     "metadata": {},
     "output_type": "execute_result"
    }
   ],
   "source": [
    "# describe Country column. 14.7 million rows. Over 900,000 rows about India.\n",
    "\n",
    "events_allyears['Country'].describe()"
   ]
  },
  {
   "cell_type": "markdown",
   "metadata": {},
   "source": [
    "#### Need data in country-year format to do some analysis"
   ]
  },
  {
   "cell_type": "code",
   "execution_count": 46,
   "metadata": {
    "collapsed": true
   },
   "outputs": [],
   "source": [
    "# pivot data to get country, year, and number of protests columns\n",
    "\n",
    "protests_country_year = protests_allyears.pivot_table(index=['Country', 'year'], values='Event_ID', \\\n",
    "                                           dropna=False, aggfunc=len, fill_value=0)\n",
    "\n",
    "# reset index to get output in next cell\n",
    "protests_country_year = protests_country_year.reset_index()"
   ]
  },
  {
   "cell_type": "code",
   "execution_count": 50,
   "metadata": {
    "collapsed": false
   },
   "outputs": [
    {
     "data": {
      "text/html": [
       "<div>\n",
       "<table border=\"1\" class=\"dataframe\">\n",
       "  <thead>\n",
       "    <tr style=\"text-align: right;\">\n",
       "      <th></th>\n",
       "      <th>level_0</th>\n",
       "      <th>level_1</th>\n",
       "      <th>Event_ID</th>\n",
       "    </tr>\n",
       "  </thead>\n",
       "  <tbody>\n",
       "    <tr>\n",
       "      <th>0</th>\n",
       "      <td>Afghanistan</td>\n",
       "      <td>1995</td>\n",
       "      <td>11</td>\n",
       "    </tr>\n",
       "    <tr>\n",
       "      <th>1</th>\n",
       "      <td>Afghanistan</td>\n",
       "      <td>1996</td>\n",
       "      <td>20</td>\n",
       "    </tr>\n",
       "  </tbody>\n",
       "</table>\n",
       "</div>"
      ],
      "text/plain": [
       "       level_0  level_1  Event_ID\n",
       "0  Afghanistan     1995        11\n",
       "1  Afghanistan     1996        20"
      ]
     },
     "execution_count": 50,
     "metadata": {},
     "output_type": "execute_result"
    }
   ],
   "source": [
    "protests_country_year.head(2)"
   ]
  },
  {
   "cell_type": "code",
   "execution_count": 51,
   "metadata": {
    "collapsed": false
   },
   "outputs": [],
   "source": [
    "# rename columns\n",
    "\n",
    "protests_country_year.rename(columns={'level_0' : 'country', 'level_1' : 'year', 'Event_ID' : 'protests'}, inplace=True)"
   ]
  },
  {
   "cell_type": "code",
   "execution_count": 52,
   "metadata": {
    "collapsed": true
   },
   "outputs": [],
   "source": [
    "# save, if need be\n",
    "\n",
    "#protests_country_year.to_csv(full_path + 'protests_country_year_v1.csv')"
   ]
  },
  {
   "cell_type": "code",
   "execution_count": 24,
   "metadata": {
    "collapsed": false
   },
   "outputs": [],
   "source": [
    "# again, pivot data and reset index\n",
    "\n",
    "events_country_year = events_allyears.pivot_table(index=['Country', 'year'], values='Event_ID', dropna=False, aggfunc=len, fill_value=0)\n",
    "\n",
    "events_country_year = events_country_year.reset_index()"
   ]
  },
  {
   "cell_type": "code",
   "execution_count": 26,
   "metadata": {
    "collapsed": false
   },
   "outputs": [
    {
     "data": {
      "text/html": [
       "<div>\n",
       "<table border=\"1\" class=\"dataframe\">\n",
       "  <thead>\n",
       "    <tr style=\"text-align: right;\">\n",
       "      <th></th>\n",
       "      <th>level_0</th>\n",
       "      <th>level_1</th>\n",
       "      <th>Event_ID</th>\n",
       "    </tr>\n",
       "  </thead>\n",
       "  <tbody>\n",
       "    <tr>\n",
       "      <th>0</th>\n",
       "      <td>Afghanistan</td>\n",
       "      <td>1995</td>\n",
       "      <td>987</td>\n",
       "    </tr>\n",
       "    <tr>\n",
       "      <th>1</th>\n",
       "      <td>Afghanistan</td>\n",
       "      <td>1996</td>\n",
       "      <td>2306</td>\n",
       "    </tr>\n",
       "  </tbody>\n",
       "</table>\n",
       "</div>"
      ],
      "text/plain": [
       "       level_0  level_1  Event_ID\n",
       "0  Afghanistan     1995       987\n",
       "1  Afghanistan     1996      2306"
      ]
     },
     "execution_count": 26,
     "metadata": {},
     "output_type": "execute_result"
    }
   ],
   "source": [
    "events_country_year.head(2)"
   ]
  },
  {
   "cell_type": "code",
   "execution_count": 27,
   "metadata": {
    "collapsed": true
   },
   "outputs": [],
   "source": [
    "# rename columns\n",
    "\n",
    "events_country_year.rename(columns={'level_0' : 'country', 'level_1' : 'year', 'Event_ID' : 'all_events'}, inplace=True)"
   ]
  },
  {
   "cell_type": "code",
   "execution_count": 30,
   "metadata": {
    "collapsed": true
   },
   "outputs": [],
   "source": [
    "# save to csv, if need be\n",
    "\n",
    "#events_country_year.to_csv(full_path + 'events_country_year_v1.csv')"
   ]
  },
  {
   "cell_type": "code",
   "execution_count": 49,
   "metadata": {
    "collapsed": false
   },
   "outputs": [
    {
     "data": {
      "text/plain": [
       "(5250, 3)"
      ]
     },
     "execution_count": 49,
     "metadata": {},
     "output_type": "execute_result"
    }
   ],
   "source": [
    "# pivoted table has 5250 rows (each row is a country-year data point)\n",
    "\n",
    "events_country_year.shape"
   ]
  },
  {
   "cell_type": "code",
   "execution_count": 29,
   "metadata": {
    "collapsed": false
   },
   "outputs": [
    {
     "data": {
      "text/plain": [
       "count     5250.000000\n",
       "mean      2802.580952\n",
       "std       6751.630031\n",
       "min          0.000000\n",
       "25%         30.000000\n",
       "50%        477.000000\n",
       "75%       2341.500000\n",
       "max      91983.000000\n",
       "Name: all_events, dtype: float64"
      ]
     },
     "execution_count": 29,
     "metadata": {},
     "output_type": "execute_result"
    }
   ],
   "source": [
    "events_country_year['all_events'].describe()"
   ]
  },
  {
   "cell_type": "code",
   "execution_count": 33,
   "metadata": {
    "collapsed": false
   },
   "outputs": [
    {
     "data": {
      "text/plain": [
       "14713549.998"
      ]
     },
     "execution_count": 33,
     "metadata": {},
     "output_type": "execute_result"
    }
   ],
   "source": [
    "# compare pivot table to original table; count * mean gives us the number of rows in the original table\n",
    "\n",
    "2802.580952 * 5250"
   ]
  },
  {
   "cell_type": "code",
   "execution_count": 252,
   "metadata": {
    "collapsed": false
   },
   "outputs": [],
   "source": [
    "# merge both pivoted tables (1. all events and 2. all protests); how='left' means that nothing from the first table (events-countries) will be dropped\n",
    "\n",
    "protests_all_events = pd.merge(events_country_year, protests_country_year, on=None, left_on=['country', 'year'], \\\n",
    "                              right_on=['country', 'year'], how='left')"
   ]
  },
  {
   "cell_type": "markdown",
   "metadata": {},
   "source": [
    "#### Now we have a country-year dataframe that has the total number of events and the number or protests"
   ]
  },
  {
   "cell_type": "code",
   "execution_count": 253,
   "metadata": {
    "collapsed": false
   },
   "outputs": [],
   "source": [
    "# add column with proportion of all events that are protests\n",
    "\n",
    "protests_all_events['prop_protests'] = protests_all_events['protests'] / protests_all_events['all_events']"
   ]
  },
  {
   "cell_type": "code",
   "execution_count": 59,
   "metadata": {
    "collapsed": false
   },
   "outputs": [
    {
     "data": {
      "text/html": [
       "<div>\n",
       "<table border=\"1\" class=\"dataframe\">\n",
       "  <thead>\n",
       "    <tr style=\"text-align: right;\">\n",
       "      <th></th>\n",
       "      <th>country</th>\n",
       "      <th>year</th>\n",
       "      <th>all_events</th>\n",
       "      <th>protests</th>\n",
       "      <th>prop_protests</th>\n",
       "    </tr>\n",
       "  </thead>\n",
       "  <tbody>\n",
       "    <tr>\n",
       "      <th>0</th>\n",
       "      <td>Afghanistan</td>\n",
       "      <td>1995</td>\n",
       "      <td>987</td>\n",
       "      <td>11</td>\n",
       "      <td>0.011145</td>\n",
       "    </tr>\n",
       "    <tr>\n",
       "      <th>1</th>\n",
       "      <td>Afghanistan</td>\n",
       "      <td>1996</td>\n",
       "      <td>2306</td>\n",
       "      <td>20</td>\n",
       "      <td>0.008673</td>\n",
       "    </tr>\n",
       "    <tr>\n",
       "      <th>2</th>\n",
       "      <td>Afghanistan</td>\n",
       "      <td>1997</td>\n",
       "      <td>1582</td>\n",
       "      <td>5</td>\n",
       "      <td>0.003161</td>\n",
       "    </tr>\n",
       "    <tr>\n",
       "      <th>3</th>\n",
       "      <td>Afghanistan</td>\n",
       "      <td>1998</td>\n",
       "      <td>2451</td>\n",
       "      <td>18</td>\n",
       "      <td>0.007344</td>\n",
       "    </tr>\n",
       "    <tr>\n",
       "      <th>4</th>\n",
       "      <td>Afghanistan</td>\n",
       "      <td>1999</td>\n",
       "      <td>2533</td>\n",
       "      <td>46</td>\n",
       "      <td>0.018160</td>\n",
       "    </tr>\n",
       "  </tbody>\n",
       "</table>\n",
       "</div>"
      ],
      "text/plain": [
       "       country  year  all_events  protests  prop_protests\n",
       "0  Afghanistan  1995         987        11       0.011145\n",
       "1  Afghanistan  1996        2306        20       0.008673\n",
       "2  Afghanistan  1997        1582         5       0.003161\n",
       "3  Afghanistan  1998        2451        18       0.007344\n",
       "4  Afghanistan  1999        2533        46       0.018160"
      ]
     },
     "execution_count": 59,
     "metadata": {},
     "output_type": "execute_result"
    }
   ],
   "source": [
    "protests_all_events.head()"
   ]
  },
  {
   "cell_type": "markdown",
   "metadata": {},
   "source": [
    "#### Create more columns"
   ]
  },
  {
   "cell_type": "code",
   "execution_count": 254,
   "metadata": {
    "collapsed": true
   },
   "outputs": [],
   "source": [
    "# average proportion of events that are protests, by year\n",
    "\n",
    "protests_all_events['prop_protests_all_countries'] = protests_all_events.groupby('year')['prop_protests'].transform(lambda x: x.mean())"
   ]
  },
  {
   "cell_type": "code",
   "execution_count": 255,
   "metadata": {
    "collapsed": true
   },
   "outputs": [],
   "source": [
    "# total number of events over all years, by country\n",
    "\n",
    "protests_all_events['all_events_country'] = protests_all_events.groupby('country')['all_events'].transform(lambda x: x.sum())"
   ]
  },
  {
   "cell_type": "code",
   "execution_count": 256,
   "metadata": {
    "collapsed": true
   },
   "outputs": [],
   "source": [
    "# total number of protests over all years, by country\n",
    "\n",
    "protests_all_events['all_protests_country'] = protests_all_events.groupby('country')['protests'].transform(lambda x: x.sum())"
   ]
  },
  {
   "cell_type": "code",
   "execution_count": 257,
   "metadata": {
    "collapsed": true
   },
   "outputs": [],
   "source": [
    "# proportion of all events that are protests over all years, by country\n",
    "\n",
    "protests_all_events['prop_all_years_country'] = protests_all_events['all_protests_country'] / protests_all_events['all_events_country']"
   ]
  },
  {
   "cell_type": "code",
   "execution_count": 258,
   "metadata": {
    "collapsed": false
   },
   "outputs": [
    {
     "data": {
      "text/html": [
       "<div>\n",
       "<table border=\"1\" class=\"dataframe\">\n",
       "  <thead>\n",
       "    <tr style=\"text-align: right;\">\n",
       "      <th></th>\n",
       "      <th>country</th>\n",
       "      <th>year</th>\n",
       "      <th>all_events</th>\n",
       "      <th>protests</th>\n",
       "      <th>prop_protests</th>\n",
       "      <th>prop_protests_all_countries</th>\n",
       "      <th>all_events_country</th>\n",
       "      <th>all_protests_country</th>\n",
       "      <th>prop_all_years_country</th>\n",
       "    </tr>\n",
       "  </thead>\n",
       "  <tbody>\n",
       "    <tr>\n",
       "      <th>0</th>\n",
       "      <td>Afghanistan</td>\n",
       "      <td>1995</td>\n",
       "      <td>987</td>\n",
       "      <td>11</td>\n",
       "      <td>0.011145</td>\n",
       "      <td>0.031669</td>\n",
       "      <td>285271</td>\n",
       "      <td>4844</td>\n",
       "      <td>0.01698</td>\n",
       "    </tr>\n",
       "  </tbody>\n",
       "</table>\n",
       "</div>"
      ],
      "text/plain": [
       "       country  year  all_events  protests  prop_protests  \\\n",
       "0  Afghanistan  1995         987        11       0.011145   \n",
       "\n",
       "   prop_protests_all_countries  all_events_country  all_protests_country  \\\n",
       "0                     0.031669              285271                  4844   \n",
       "\n",
       "   prop_all_years_country  \n",
       "0                 0.01698  "
      ]
     },
     "execution_count": 258,
     "metadata": {},
     "output_type": "execute_result"
    }
   ],
   "source": [
    "protests_all_events.head(1)"
   ]
  },
  {
   "cell_type": "code",
   "execution_count": 260,
   "metadata": {
    "collapsed": true
   },
   "outputs": [],
   "source": [
    "# export to .csv before filtering\n",
    "\n",
    "protests_all_events.to_csv(full_path + 'protests_events_country_year_v1.csv')"
   ]
  },
  {
   "cell_type": "markdown",
   "metadata": {},
   "source": [
    "#### Let's look at data, sorted by which country has the highest proportion of events that are protests."
   ]
  },
  {
   "cell_type": "code",
   "execution_count": 259,
   "metadata": {
    "collapsed": false
   },
   "outputs": [
    {
     "data": {
      "text/html": [
       "<div>\n",
       "<table border=\"1\" class=\"dataframe\">\n",
       "  <thead>\n",
       "    <tr style=\"text-align: right;\">\n",
       "      <th></th>\n",
       "      <th>country</th>\n",
       "      <th>year</th>\n",
       "      <th>all_events</th>\n",
       "      <th>protests</th>\n",
       "      <th>prop_protests</th>\n",
       "      <th>prop_protests_all_countries</th>\n",
       "      <th>all_events_country</th>\n",
       "      <th>all_protests_country</th>\n",
       "      <th>prop_all_years_country</th>\n",
       "    </tr>\n",
       "  </thead>\n",
       "  <tbody>\n",
       "    <tr>\n",
       "      <th>3875</th>\n",
       "      <td>Saint Barthelemy</td>\n",
       "      <td>2006</td>\n",
       "      <td>0</td>\n",
       "      <td>0</td>\n",
       "      <td>NaN</td>\n",
       "      <td>0.026770</td>\n",
       "      <td>5</td>\n",
       "      <td>1</td>\n",
       "      <td>0.2</td>\n",
       "    </tr>\n",
       "    <tr>\n",
       "      <th>3884</th>\n",
       "      <td>Saint Barthelemy</td>\n",
       "      <td>2015</td>\n",
       "      <td>2</td>\n",
       "      <td>0</td>\n",
       "      <td>0</td>\n",
       "      <td>0.031052</td>\n",
       "      <td>5</td>\n",
       "      <td>1</td>\n",
       "      <td>0.2</td>\n",
       "    </tr>\n",
       "  </tbody>\n",
       "</table>\n",
       "</div>"
      ],
      "text/plain": [
       "               country  year  all_events  protests  prop_protests  \\\n",
       "3875  Saint Barthelemy  2006           0         0            NaN   \n",
       "3884  Saint Barthelemy  2015           2         0              0   \n",
       "\n",
       "      prop_protests_all_countries  all_events_country  all_protests_country  \\\n",
       "3875                     0.026770                   5                     1   \n",
       "3884                     0.031052                   5                     1   \n",
       "\n",
       "      prop_all_years_country  \n",
       "3875                     0.2  \n",
       "3884                     0.2  "
      ]
     },
     "execution_count": 259,
     "metadata": {},
     "output_type": "execute_result"
    }
   ],
   "source": [
    "protests_all_events.sort_values(by='prop_all_years_country', ascending=False).head(2)"
   ]
  },
  {
   "cell_type": "markdown",
   "metadata": {},
   "source": [
    "#### Some countries have very few events, so I want to just keep countries that have at least 1,000 events over the 21 years (about 47.6 events per year)."
   ]
  },
  {
   "cell_type": "code",
   "execution_count": 261,
   "metadata": {
    "collapsed": false
   },
   "outputs": [],
   "source": [
    "protests_all_events = protests_all_events[protests_all_events['all_events_country'] > 999]"
   ]
  },
  {
   "cell_type": "code",
   "execution_count": 262,
   "metadata": {
    "collapsed": false
   },
   "outputs": [
    {
     "data": {
      "text/plain": [
       "(3864, 9)"
      ]
     },
     "execution_count": 262,
     "metadata": {},
     "output_type": "execute_result"
    }
   ],
   "source": [
    "# dataset went from 5250 country-years to 3864 (which means there are now 184 countries in the dataset)\n",
    "\n",
    "protests_all_events.shape"
   ]
  },
  {
   "cell_type": "markdown",
   "metadata": {},
   "source": [
    "#### Next cell gives us stats for proportion column. The average is 0.028 and median is 0.018, which seems to make sense."
   ]
  },
  {
   "cell_type": "code",
   "execution_count": 264,
   "metadata": {
    "collapsed": false
   },
   "outputs": [
    {
     "data": {
      "text/plain": [
       "count    3860.000000\n",
       "mean        0.027896\n",
       "std         0.034876\n",
       "min         0.000000\n",
       "25%         0.008260\n",
       "50%         0.017544\n",
       "75%         0.033113\n",
       "max         0.354664\n",
       "Name: prop_protests, dtype: float64"
      ]
     },
     "execution_count": 264,
     "metadata": {},
     "output_type": "execute_result"
    }
   ],
   "source": [
    "protests_all_events['prop_protests'].describe()"
   ]
  },
  {
   "cell_type": "markdown",
   "metadata": {},
   "source": [
    "### Plotting"
   ]
  },
  {
   "cell_type": "markdown",
   "metadata": {},
   "source": [
    "#### Let's start by looking big picture: number of all protests globally by day and year"
   ]
  },
  {
   "cell_type": "code",
   "execution_count": 215,
   "metadata": {
    "collapsed": false
   },
   "outputs": [],
   "source": [
    "#daily_events = protests_allyears.groupby(\"Event_Date\").aggregate(len)[\"Event_ID\"]\n",
    "\n",
    "yearly_events = protests_allyears.groupby('year').aggregate(len)[\"Event_ID\"]"
   ]
  },
  {
   "cell_type": "code",
   "execution_count": 242,
   "metadata": {
    "collapsed": false
   },
   "outputs": [
    {
     "data": {
      "text/plain": [
       "<matplotlib.axes._subplots.AxesSubplot at 0x657ff7b8>"
      ]
     },
     "execution_count": 242,
     "metadata": {},
     "output_type": "execute_result"
    },
    {
     "data": {
      "image/png": "[encoded data removed]",
      "text/plain": [
       "<matplotlib.figure.Figure at 0x65826c18>"
      ]
     },
     "metadata": {},
     "output_type": "display_data"
    }
   ],
   "source": [
    "yearly_events.plot(color='k', lw=1, figsize=(14,7), \n",
    "                  title=\"ICEWS Yearly Protest Events Count\")"
   ]
  },
  {
   "cell_type": "markdown",
   "metadata": {},
   "source": [
    "#### Proportion of events that are protests over time"
   ]
  },
  {
   "cell_type": "code",
   "execution_count": 265,
   "metadata": {
    "collapsed": true
   },
   "outputs": [],
   "source": [
    "# pivot table that will give us the proportion of all events that are protests for all countries, by year\n",
    "\n",
    "prop_prot_year = protests_all_events.pivot_table(index='year', values='prop_protests_all_countries', dropna=False, aggfunc=np.mean, fill_value=0)"
   ]
  },
  {
   "cell_type": "code",
   "execution_count": 266,
   "metadata": {
    "collapsed": false
   },
   "outputs": [
    {
     "data": {
      "text/plain": [
       "year\n",
       "2011    0.044427\n",
       "2012    0.035839\n",
       "2013    0.034254\n",
       "2014    0.032998\n",
       "1995    0.031669\n",
       "Name: prop_protests_all_countries, dtype: float64"
      ]
     },
     "execution_count": 266,
     "metadata": {},
     "output_type": "execute_result"
    }
   ],
   "source": [
    "prop_prot_year.sort_values(ascending=False).head()"
   ]
  },
  {
   "cell_type": "code",
   "execution_count": 267,
   "metadata": {
    "collapsed": false
   },
   "outputs": [
    {
     "data": {
      "text/plain": [
       "<matplotlib.axes._subplots.AxesSubplot at 0x63e2a898>"
      ]
     },
     "execution_count": 267,
     "metadata": {},
     "output_type": "execute_result"
    },
    {
     "data": {
      "image/png": "[encoded data removed]",
      "text/plain": [
       "<matplotlib.figure.Figure at 0x711eaba8>"
      ]
     },
     "metadata": {},
     "output_type": "display_data"
    }
   ],
   "source": [
    "prop_prot_year.plot(color='k', lw=1, figsize=(14,7), \n",
    "                  title=\"ICEWS Yearly Normed Protest Events Count\")"
   ]
  },
  {
   "cell_type": "markdown",
   "metadata": {},
   "source": [
    "#### We can also look at protest proportions by country"
   ]
  },
  {
   "cell_type": "code",
   "execution_count": 268,
   "metadata": {
    "collapsed": false
   },
   "outputs": [],
   "source": [
    "# pivot table that will give us the proportion of all events that are protests for all years, by country\n",
    "\n",
    "prop_prot_country = protests_all_events.pivot_table(index='country', values='prop_all_years_country', dropna=False, aggfunc=np.mean, fill_value=0)"
   ]
  },
  {
   "cell_type": "code",
   "execution_count": 269,
   "metadata": {
    "collapsed": false
   },
   "outputs": [
    {
     "data": {
      "text/plain": [
       "country\n",
       "Bahrain       0.136910\n",
       "Hong Kong     0.109188\n",
       "Swaziland     0.094176\n",
       "Tunisia       0.087548\n",
       "Bolivia       0.087028\n",
       "Haiti         0.080759\n",
       "Guinea        0.076485\n",
       "Mauritania    0.075507\n",
       "Madagascar    0.072920\n",
       "Nepal         0.071605\n",
       "Name: prop_all_years_country, dtype: float64"
      ]
     },
     "execution_count": 269,
     "metadata": {},
     "output_type": "execute_result"
    }
   ],
   "source": [
    "# top 10 countries\n",
    "\n",
    "prop_prot_country.sort_values(ascending=False).head(10)"
   ]
  },
  {
   "cell_type": "markdown",
   "metadata": {},
   "source": [
    "### Let's look at a subset of the countries. The first is for a few countries in Europe, the second for some MENA countries."
   ]
  },
  {
   "cell_type": "code",
   "execution_count": 270,
   "metadata": {
    "collapsed": false
   },
   "outputs": [
    {
     "data": {
      "text/html": [
       "<div>\n",
       "<table border=\"1\" class=\"dataframe\">\n",
       "  <thead>\n",
       "    <tr style=\"text-align: right;\">\n",
       "      <th></th>\n",
       "      <th>country</th>\n",
       "      <th>year</th>\n",
       "      <th>all_events</th>\n",
       "      <th>protests</th>\n",
       "      <th>prop_protests</th>\n",
       "      <th>prop_protests_all_countries</th>\n",
       "      <th>all_events_country</th>\n",
       "      <th>all_protests_country</th>\n",
       "      <th>prop_all_years_country</th>\n",
       "    </tr>\n",
       "  </thead>\n",
       "  <tbody>\n",
       "    <tr>\n",
       "      <th>0</th>\n",
       "      <td>Afghanistan</td>\n",
       "      <td>1995</td>\n",
       "      <td>987</td>\n",
       "      <td>11</td>\n",
       "      <td>0.011145</td>\n",
       "      <td>0.031669</td>\n",
       "      <td>285271</td>\n",
       "      <td>4844</td>\n",
       "      <td>0.01698</td>\n",
       "    </tr>\n",
       "  </tbody>\n",
       "</table>\n",
       "</div>"
      ],
      "text/plain": [
       "       country  year  all_events  protests  prop_protests  \\\n",
       "0  Afghanistan  1995         987        11       0.011145   \n",
       "\n",
       "   prop_protests_all_countries  all_events_country  all_protests_country  \\\n",
       "0                     0.031669              285271                  4844   \n",
       "\n",
       "   prop_all_years_country  \n",
       "0                 0.01698  "
      ]
     },
     "execution_count": 270,
     "metadata": {},
     "output_type": "execute_result"
    }
   ],
   "source": [
    "protests_all_events.head(1)"
   ]
  },
  {
   "cell_type": "code",
   "execution_count": 281,
   "metadata": {
    "collapsed": true
   },
   "outputs": [],
   "source": [
    "all_pivot = protests_all_events.pivot('year', 'country')"
   ]
  },
  {
   "cell_type": "code",
   "execution_count": 283,
   "metadata": {
    "collapsed": false
   },
   "outputs": [
    {
     "data": {
      "text/html": [
       "<div>\n",
       "<table border=\"1\" class=\"dataframe\">\n",
       "  <thead>\n",
       "    <tr>\n",
       "      <th></th>\n",
       "      <th colspan=\"10\" halign=\"left\">all_events</th>\n",
       "      <th>...</th>\n",
       "      <th colspan=\"10\" halign=\"left\">prop_all_years_country</th>\n",
       "    </tr>\n",
       "    <tr>\n",
       "      <th>country</th>\n",
       "      <th>Afghanistan</th>\n",
       "      <th>Albania</th>\n",
       "      <th>Algeria</th>\n",
       "      <th>Angola</th>\n",
       "      <th>Argentina</th>\n",
       "      <th>Armenia</th>\n",
       "      <th>Australia</th>\n",
       "      <th>Austria</th>\n",
       "      <th>Azerbaijan</th>\n",
       "      <th>Bahamas</th>\n",
       "      <th>...</th>\n",
       "      <th>Uruguay</th>\n",
       "      <th>Uzbekistan</th>\n",
       "      <th>Vanuatu</th>\n",
       "      <th>Venezuela</th>\n",
       "      <th>Vietnam</th>\n",
       "      <th>Western Sahara</th>\n",
       "      <th>Yemen</th>\n",
       "      <th>Zambia</th>\n",
       "      <th>Zimbabwe</th>\n",
       "      <th>the former Yugoslav Republic of Macedonia</th>\n",
       "    </tr>\n",
       "    <tr>\n",
       "      <th>year</th>\n",
       "      <th></th>\n",
       "      <th></th>\n",
       "      <th></th>\n",
       "      <th></th>\n",
       "      <th></th>\n",
       "      <th></th>\n",
       "      <th></th>\n",
       "      <th></th>\n",
       "      <th></th>\n",
       "      <th></th>\n",
       "      <th></th>\n",
       "      <th></th>\n",
       "      <th></th>\n",
       "      <th></th>\n",
       "      <th></th>\n",
       "      <th></th>\n",
       "      <th></th>\n",
       "      <th></th>\n",
       "      <th></th>\n",
       "      <th></th>\n",
       "      <th></th>\n",
       "    </tr>\n",
       "  </thead>\n",
       "  <tbody>\n",
       "    <tr>\n",
       "      <th>1995</th>\n",
       "      <td>987</td>\n",
       "      <td>447</td>\n",
       "      <td>809</td>\n",
       "      <td>622</td>\n",
       "      <td>980</td>\n",
       "      <td>124</td>\n",
       "      <td>1133</td>\n",
       "      <td>477</td>\n",
       "      <td>346</td>\n",
       "      <td>12</td>\n",
       "      <td>...</td>\n",
       "      <td>0.020029</td>\n",
       "      <td>0.013766</td>\n",
       "      <td>0.009844</td>\n",
       "      <td>0.059967</td>\n",
       "      <td>0.00495</td>\n",
       "      <td>0.032031</td>\n",
       "      <td>0.056582</td>\n",
       "      <td>0.020601</td>\n",
       "      <td>0.030197</td>\n",
       "      <td>0.022563</td>\n",
       "    </tr>\n",
       "    <tr>\n",
       "      <th>1996</th>\n",
       "      <td>2306</td>\n",
       "      <td>1226</td>\n",
       "      <td>901</td>\n",
       "      <td>915</td>\n",
       "      <td>1496</td>\n",
       "      <td>423</td>\n",
       "      <td>4027</td>\n",
       "      <td>668</td>\n",
       "      <td>381</td>\n",
       "      <td>14</td>\n",
       "      <td>...</td>\n",
       "      <td>0.020029</td>\n",
       "      <td>0.013766</td>\n",
       "      <td>0.009844</td>\n",
       "      <td>0.059967</td>\n",
       "      <td>0.00495</td>\n",
       "      <td>0.032031</td>\n",
       "      <td>0.056582</td>\n",
       "      <td>0.020601</td>\n",
       "      <td>0.030197</td>\n",
       "      <td>0.022563</td>\n",
       "    </tr>\n",
       "  </tbody>\n",
       "</table>\n",
       "<p>2 rows × 1288 columns</p>\n",
       "</div>"
      ],
      "text/plain": [
       "         all_events                                                     \\\n",
       "country Afghanistan Albania Algeria Angola Argentina Armenia Australia   \n",
       "year                                                                     \n",
       "1995            987     447     809    622       980     124      1133   \n",
       "1996           2306    1226     901    915      1496     423      4027   \n",
       "\n",
       "                                                      ...                     \\\n",
       "country Austria Azerbaijan Bahamas                    ...                      \n",
       "year                                                  ...                      \n",
       "1995        477        346      12                    ...                      \n",
       "1996        668        381      14                    ...                      \n",
       "\n",
       "        prop_all_years_country                                          \\\n",
       "country                Uruguay Uzbekistan   Vanuatu Venezuela  Vietnam   \n",
       "year                                                                     \n",
       "1995                  0.020029   0.013766  0.009844  0.059967  0.00495   \n",
       "1996                  0.020029   0.013766  0.009844  0.059967  0.00495   \n",
       "\n",
       "                                                      \\\n",
       "country Western Sahara     Yemen    Zambia  Zimbabwe   \n",
       "year                                                   \n",
       "1995          0.032031  0.056582  0.020601  0.030197   \n",
       "1996          0.032031  0.056582  0.020601  0.030197   \n",
       "\n",
       "                                                   \n",
       "country the former Yugoslav Republic of Macedonia  \n",
       "year                                               \n",
       "1995                                     0.022563  \n",
       "1996                                     0.022563  \n",
       "\n",
       "[2 rows x 1288 columns]"
      ]
     },
     "execution_count": 283,
     "metadata": {},
     "output_type": "execute_result"
    }
   ],
   "source": [
    "all_pivot.head(2)"
   ]
  },
  {
   "cell_type": "code",
   "execution_count": 284,
   "metadata": {
    "collapsed": true
   },
   "outputs": [],
   "source": [
    "all_pivot.to_excel(full_path + 'country_year_pivot_v1.xlsx')"
   ]
  },
  {
   "cell_type": "code",
   "execution_count": 285,
   "metadata": {
    "collapsed": true
   },
   "outputs": [],
   "source": [
    "all_pivot.to_csv(full_path + 'country_year_pivot_v1.csv')"
   ]
  },
  {
   "cell_type": "code",
   "execution_count": 271,
   "metadata": {
    "collapsed": false
   },
   "outputs": [],
   "source": [
    "europe_test = protests_all_events[(protests_all_events['country'] == 'France') | (protests_all_events['country'] == 'Germany') \\\n",
    "                                    | (protests_all_events['country'] == 'Italy') | (protests_all_events['country'] == 'Spain') \\\n",
    "                                    | (protests_all_events['country'] == 'Greece') | (protests_all_events['country'] == 'Austria')] \\\n",
    "[['country', 'year', 'all_events', 'protests', 'prop_protests', 'prop_all_years_country']]"
   ]
  },
  {
   "cell_type": "code",
   "execution_count": 272,
   "metadata": {
    "collapsed": false
   },
   "outputs": [],
   "source": [
    "mena_test = protests_all_events[(protests_all_events['country'] == 'Bahrain') | (protests_all_events['country'] == 'Syria') \\\n",
    "                                    | (protests_all_events['country'] == 'Tunisia') | (protests_all_events['country'] == 'Egypt') \\\n",
    "                                    | (protests_all_events['country'] == 'Iraq') | (protests_all_events['country'] == 'Jordan')] \\\n",
    "[['country', 'year', 'all_events', 'protests', 'prop_protests', 'prop_all_years_country']]"
   ]
  },
  {
   "cell_type": "code",
   "execution_count": 273,
   "metadata": {
    "collapsed": false
   },
   "outputs": [
    {
     "data": {
      "text/html": [
       "<div>\n",
       "<table border=\"1\" class=\"dataframe\">\n",
       "  <thead>\n",
       "    <tr style=\"text-align: right;\">\n",
       "      <th></th>\n",
       "      <th>country</th>\n",
       "      <th>year</th>\n",
       "      <th>all_events</th>\n",
       "      <th>protests</th>\n",
       "      <th>prop_protests</th>\n",
       "      <th>prop_all_years_country</th>\n",
       "    </tr>\n",
       "  </thead>\n",
       "  <tbody>\n",
       "    <tr>\n",
       "      <th>273</th>\n",
       "      <td>Austria</td>\n",
       "      <td>1995</td>\n",
       "      <td>477</td>\n",
       "      <td>9</td>\n",
       "      <td>0.018868</td>\n",
       "      <td>0.011728</td>\n",
       "    </tr>\n",
       "    <tr>\n",
       "      <th>274</th>\n",
       "      <td>Austria</td>\n",
       "      <td>1996</td>\n",
       "      <td>668</td>\n",
       "      <td>10</td>\n",
       "      <td>0.014970</td>\n",
       "      <td>0.011728</td>\n",
       "    </tr>\n",
       "  </tbody>\n",
       "</table>\n",
       "</div>"
      ],
      "text/plain": [
       "     country  year  all_events  protests  prop_protests  \\\n",
       "273  Austria  1995         477         9       0.018868   \n",
       "274  Austria  1996         668        10       0.014970   \n",
       "\n",
       "     prop_all_years_country  \n",
       "273                0.011728  \n",
       "274                0.011728  "
      ]
     },
     "execution_count": 273,
     "metadata": {},
     "output_type": "execute_result"
    }
   ],
   "source": [
    "europe_test.head(2)"
   ]
  },
  {
   "cell_type": "code",
   "execution_count": 274,
   "metadata": {
    "collapsed": true
   },
   "outputs": [],
   "source": [
    "# pivot tables that'll give us multi-level tables (variables and countries for column headings, years for row headings). \n",
    "#This'll make it easier to plot.\n",
    "\n",
    "europe_pivot = europe_test.pivot('year', 'country')\n",
    "\n",
    "mena_pivot = mena_test.pivot('year', 'country')"
   ]
  },
  {
   "cell_type": "code",
   "execution_count": 275,
   "metadata": {
    "collapsed": false
   },
   "outputs": [
    {
     "data": {
      "text/html": [
       "<div>\n",
       "<table border=\"1\" class=\"dataframe\">\n",
       "  <thead>\n",
       "    <tr>\n",
       "      <th></th>\n",
       "      <th colspan=\"6\" halign=\"left\">all_events</th>\n",
       "      <th colspan=\"4\" halign=\"left\">protests</th>\n",
       "      <th>...</th>\n",
       "      <th colspan=\"4\" halign=\"left\">prop_protests</th>\n",
       "      <th colspan=\"6\" halign=\"left\">prop_all_years_country</th>\n",
       "    </tr>\n",
       "    <tr>\n",
       "      <th>country</th>\n",
       "      <th>Austria</th>\n",
       "      <th>France</th>\n",
       "      <th>Germany</th>\n",
       "      <th>Greece</th>\n",
       "      <th>Italy</th>\n",
       "      <th>Spain</th>\n",
       "      <th>Austria</th>\n",
       "      <th>France</th>\n",
       "      <th>Germany</th>\n",
       "      <th>Greece</th>\n",
       "      <th>...</th>\n",
       "      <th>Germany</th>\n",
       "      <th>Greece</th>\n",
       "      <th>Italy</th>\n",
       "      <th>Spain</th>\n",
       "      <th>Austria</th>\n",
       "      <th>France</th>\n",
       "      <th>Germany</th>\n",
       "      <th>Greece</th>\n",
       "      <th>Italy</th>\n",
       "      <th>Spain</th>\n",
       "    </tr>\n",
       "    <tr>\n",
       "      <th>year</th>\n",
       "      <th></th>\n",
       "      <th></th>\n",
       "      <th></th>\n",
       "      <th></th>\n",
       "      <th></th>\n",
       "      <th></th>\n",
       "      <th></th>\n",
       "      <th></th>\n",
       "      <th></th>\n",
       "      <th></th>\n",
       "      <th></th>\n",
       "      <th></th>\n",
       "      <th></th>\n",
       "      <th></th>\n",
       "      <th></th>\n",
       "      <th></th>\n",
       "      <th></th>\n",
       "      <th></th>\n",
       "      <th></th>\n",
       "      <th></th>\n",
       "      <th></th>\n",
       "    </tr>\n",
       "  </thead>\n",
       "  <tbody>\n",
       "    <tr>\n",
       "      <th>1995</th>\n",
       "      <td>477</td>\n",
       "      <td>5862</td>\n",
       "      <td>2111</td>\n",
       "      <td>966</td>\n",
       "      <td>1752</td>\n",
       "      <td>1345</td>\n",
       "      <td>9</td>\n",
       "      <td>172</td>\n",
       "      <td>36</td>\n",
       "      <td>16</td>\n",
       "      <td>...</td>\n",
       "      <td>0.017054</td>\n",
       "      <td>0.016563</td>\n",
       "      <td>0.009703</td>\n",
       "      <td>0.015613</td>\n",
       "      <td>0.011728</td>\n",
       "      <td>0.025018</td>\n",
       "      <td>0.020167</td>\n",
       "      <td>0.044598</td>\n",
       "      <td>0.023448</td>\n",
       "      <td>0.034579</td>\n",
       "    </tr>\n",
       "    <tr>\n",
       "      <th>1996</th>\n",
       "      <td>668</td>\n",
       "      <td>6927</td>\n",
       "      <td>3353</td>\n",
       "      <td>1039</td>\n",
       "      <td>3204</td>\n",
       "      <td>1583</td>\n",
       "      <td>10</td>\n",
       "      <td>187</td>\n",
       "      <td>88</td>\n",
       "      <td>13</td>\n",
       "      <td>...</td>\n",
       "      <td>0.026245</td>\n",
       "      <td>0.012512</td>\n",
       "      <td>0.019663</td>\n",
       "      <td>0.021478</td>\n",
       "      <td>0.011728</td>\n",
       "      <td>0.025018</td>\n",
       "      <td>0.020167</td>\n",
       "      <td>0.044598</td>\n",
       "      <td>0.023448</td>\n",
       "      <td>0.034579</td>\n",
       "    </tr>\n",
       "  </tbody>\n",
       "</table>\n",
       "<p>2 rows × 24 columns</p>\n",
       "</div>"
      ],
      "text/plain": [
       "        all_events                                   protests                 \\\n",
       "country    Austria France Germany Greece Italy Spain  Austria France Germany   \n",
       "year                                                                           \n",
       "1995           477   5862    2111    966  1752  1345        9    172      36   \n",
       "1996           668   6927    3353   1039  3204  1583       10    187      88   \n",
       "\n",
       "                  ...    prop_protests                                \\\n",
       "country Greece    ...          Germany    Greece     Italy     Spain   \n",
       "year              ...                                                  \n",
       "1995        16    ...         0.017054  0.016563  0.009703  0.015613   \n",
       "1996        13    ...         0.026245  0.012512  0.019663  0.021478   \n",
       "\n",
       "        prop_all_years_country                                          \\\n",
       "country                Austria    France   Germany    Greece     Italy   \n",
       "year                                                                     \n",
       "1995                  0.011728  0.025018  0.020167  0.044598  0.023448   \n",
       "1996                  0.011728  0.025018  0.020167  0.044598  0.023448   \n",
       "\n",
       "                   \n",
       "country     Spain  \n",
       "year               \n",
       "1995     0.034579  \n",
       "1996     0.034579  \n",
       "\n",
       "[2 rows x 24 columns]"
      ]
     },
     "execution_count": 275,
     "metadata": {},
     "output_type": "execute_result"
    }
   ],
   "source": [
    "europe_pivot.head(2)"
   ]
  },
  {
   "cell_type": "code",
   "execution_count": 276,
   "metadata": {
    "collapsed": false
   },
   "outputs": [
    {
     "data": {
      "text/html": [
       "<div>\n",
       "<table border=\"1\" class=\"dataframe\">\n",
       "  <thead>\n",
       "    <tr>\n",
       "      <th></th>\n",
       "      <th colspan=\"6\" halign=\"left\">all_events</th>\n",
       "      <th colspan=\"4\" halign=\"left\">protests</th>\n",
       "      <th>...</th>\n",
       "      <th colspan=\"4\" halign=\"left\">prop_protests</th>\n",
       "      <th colspan=\"6\" halign=\"left\">prop_all_years_country</th>\n",
       "    </tr>\n",
       "    <tr>\n",
       "      <th>country</th>\n",
       "      <th>Bahrain</th>\n",
       "      <th>Egypt</th>\n",
       "      <th>Iraq</th>\n",
       "      <th>Jordan</th>\n",
       "      <th>Syria</th>\n",
       "      <th>Tunisia</th>\n",
       "      <th>Bahrain</th>\n",
       "      <th>Egypt</th>\n",
       "      <th>Iraq</th>\n",
       "      <th>Jordan</th>\n",
       "      <th>...</th>\n",
       "      <th>Iraq</th>\n",
       "      <th>Jordan</th>\n",
       "      <th>Syria</th>\n",
       "      <th>Tunisia</th>\n",
       "      <th>Bahrain</th>\n",
       "      <th>Egypt</th>\n",
       "      <th>Iraq</th>\n",
       "      <th>Jordan</th>\n",
       "      <th>Syria</th>\n",
       "      <th>Tunisia</th>\n",
       "    </tr>\n",
       "    <tr>\n",
       "      <th>year</th>\n",
       "      <th></th>\n",
       "      <th></th>\n",
       "      <th></th>\n",
       "      <th></th>\n",
       "      <th></th>\n",
       "      <th></th>\n",
       "      <th></th>\n",
       "      <th></th>\n",
       "      <th></th>\n",
       "      <th></th>\n",
       "      <th></th>\n",
       "      <th></th>\n",
       "      <th></th>\n",
       "      <th></th>\n",
       "      <th></th>\n",
       "      <th></th>\n",
       "      <th></th>\n",
       "      <th></th>\n",
       "      <th></th>\n",
       "      <th></th>\n",
       "      <th></th>\n",
       "    </tr>\n",
       "  </thead>\n",
       "  <tbody>\n",
       "    <tr>\n",
       "      <th>1995</th>\n",
       "      <td>113</td>\n",
       "      <td>3235</td>\n",
       "      <td>1763</td>\n",
       "      <td>1066</td>\n",
       "      <td>2098</td>\n",
       "      <td>405</td>\n",
       "      <td>9</td>\n",
       "      <td>34</td>\n",
       "      <td>23</td>\n",
       "      <td>5</td>\n",
       "      <td>...</td>\n",
       "      <td>0.013046</td>\n",
       "      <td>0.004690</td>\n",
       "      <td>0.00572</td>\n",
       "      <td>0.004938</td>\n",
       "      <td>0.13691</td>\n",
       "      <td>0.05982</td>\n",
       "      <td>0.019343</td>\n",
       "      <td>0.026362</td>\n",
       "      <td>0.025236</td>\n",
       "      <td>0.087548</td>\n",
       "    </tr>\n",
       "    <tr>\n",
       "      <th>1996</th>\n",
       "      <td>615</td>\n",
       "      <td>4987</td>\n",
       "      <td>3989</td>\n",
       "      <td>1560</td>\n",
       "      <td>3981</td>\n",
       "      <td>401</td>\n",
       "      <td>46</td>\n",
       "      <td>21</td>\n",
       "      <td>18</td>\n",
       "      <td>35</td>\n",
       "      <td>...</td>\n",
       "      <td>0.004512</td>\n",
       "      <td>0.022436</td>\n",
       "      <td>0.00201</td>\n",
       "      <td>0.000000</td>\n",
       "      <td>0.13691</td>\n",
       "      <td>0.05982</td>\n",
       "      <td>0.019343</td>\n",
       "      <td>0.026362</td>\n",
       "      <td>0.025236</td>\n",
       "      <td>0.087548</td>\n",
       "    </tr>\n",
       "  </tbody>\n",
       "</table>\n",
       "<p>2 rows × 24 columns</p>\n",
       "</div>"
      ],
      "text/plain": [
       "        all_events                                  protests             \\\n",
       "country    Bahrain Egypt  Iraq Jordan Syria Tunisia  Bahrain Egypt Iraq   \n",
       "year                                                                      \n",
       "1995           113  3235  1763   1066  2098     405        9    34   23   \n",
       "1996           615  4987  3989   1560  3981     401       46    21   18   \n",
       "\n",
       "                  ...    prop_protests                               \\\n",
       "country Jordan    ...             Iraq    Jordan    Syria   Tunisia   \n",
       "year              ...                                                 \n",
       "1995         5    ...         0.013046  0.004690  0.00572  0.004938   \n",
       "1996        35    ...         0.004512  0.022436  0.00201  0.000000   \n",
       "\n",
       "        prop_all_years_country                                         \\\n",
       "country                Bahrain    Egypt      Iraq    Jordan     Syria   \n",
       "year                                                                    \n",
       "1995                   0.13691  0.05982  0.019343  0.026362  0.025236   \n",
       "1996                   0.13691  0.05982  0.019343  0.026362  0.025236   \n",
       "\n",
       "                   \n",
       "country   Tunisia  \n",
       "year               \n",
       "1995     0.087548  \n",
       "1996     0.087548  \n",
       "\n",
       "[2 rows x 24 columns]"
      ]
     },
     "execution_count": 276,
     "metadata": {},
     "output_type": "execute_result"
    }
   ],
   "source": [
    "mena_pivot.head(2)"
   ]
  },
  {
   "cell_type": "markdown",
   "metadata": {},
   "source": [
    "### Total number of protests for some European countries, 1995 - 2015"
   ]
  },
  {
   "cell_type": "code",
   "execution_count": 277,
   "metadata": {
    "collapsed": false
   },
   "outputs": [
    {
     "data": {
      "text/plain": [
       "<matplotlib.axes._subplots.AxesSubplot at 0x76909f60>"
      ]
     },
     "execution_count": 277,
     "metadata": {},
     "output_type": "execute_result"
    },
    {
     "data": {
      "image/png": "[encoded data removed]",
      "text/plain": [
       "<matplotlib.figure.Figure at 0x7182dc88>"
      ]
     },
     "metadata": {},
     "output_type": "display_data"
    }
   ],
   "source": [
    "europe_pivot['protests'].plot(figsize=(14,7), lw=1,\n",
    "                             title=\"Yearly Protests\")"
   ]
  },
  {
   "cell_type": "markdown",
   "metadata": {},
   "source": [
    "### Normed number of protests for some European countries, 1995 - 2015"
   ]
  },
  {
   "cell_type": "code",
   "execution_count": 278,
   "metadata": {
    "collapsed": false
   },
   "outputs": [
    {
     "data": {
      "text/plain": [
       "<matplotlib.axes._subplots.AxesSubplot at 0x6dea9470>"
      ]
     },
     "execution_count": 278,
     "metadata": {},
     "output_type": "execute_result"
    },
    {
     "data": {
      "image/png": "[encoded data removed]",
      "text/plain": [
       "<matplotlib.figure.Figure at 0x7c62ab70>"
      ]
     },
     "metadata": {},
     "output_type": "display_data"
    }
   ],
   "source": [
    "europe_pivot['prop_protests'].plot(figsize=(14, 7), lw=1,\n",
    "                             title=\"Yearly Normed Protests\")"
   ]
  },
  {
   "cell_type": "markdown",
   "metadata": {},
   "source": [
    "### Two plots of MENA protests (total and normed), 1995 - 2015"
   ]
  },
  {
   "cell_type": "code",
   "execution_count": 279,
   "metadata": {
    "collapsed": false
   },
   "outputs": [
    {
     "data": {
      "text/plain": [
       "<matplotlib.axes._subplots.AxesSubplot at 0x7dfd5198>"
      ]
     },
     "execution_count": 279,
     "metadata": {},
     "output_type": "execute_result"
    },
    {
     "data": {
      "image/png": "[encoded data removed]",
      "text/plain": [
       "<matplotlib.figure.Figure at 0x47c2d320>"
      ]
     },
     "metadata": {},
     "output_type": "display_data"
    }
   ],
   "source": [
    "mena_pivot['protests'].plot(figsize=(14, 7), lw=1,\n",
    "                             title=\"Yearly Protests\")"
   ]
  },
  {
   "cell_type": "code",
   "execution_count": 280,
   "metadata": {
    "collapsed": false
   },
   "outputs": [
    {
     "data": {
      "text/plain": [
       "<matplotlib.axes._subplots.AxesSubplot at 0x868f9e10>"
      ]
     },
     "execution_count": 280,
     "metadata": {},
     "output_type": "execute_result"
    },
    {
     "data": {
      "image/png": "[encoded data removed]",
      "text/plain": [
       "<matplotlib.figure.Figure at 0x8690f128>"
      ]
     },
     "metadata": {},
     "output_type": "display_data"
    }
   ],
   "source": [
    "mena_pivot['prop_protests'].plot(figsize=(14, 7),  lw=1,\n",
    "                             title=\"Yearly Normed Protests\")"
   ]
  },
  {
   "cell_type": "markdown",
   "metadata": {},
   "source": [
    "### Who are the main actors?"
   ]
  },
  {
   "cell_type": "markdown",
   "metadata": {},
   "source": [
    "#### First, let's look at which countries are most often the \"source\" and the target of protest."
   ]
  },
  {
   "cell_type": "code",
   "execution_count": 61,
   "metadata": {
    "collapsed": true
   },
   "outputs": [],
   "source": [
    "country_source = protests_allyears.Source_Country.value_counts()\n",
    "country_target = protests_allyears.Target_Country.value_counts()\n",
    "country_counts = pd.DataFrame({\"SourceFreq\": country_source,\n",
    "                             \"TargetFreq\": country_target})\n",
    "country_counts.fillna(0, inplace=True)\n",
    "country_counts[\"Total\"] = country_counts.SourceFreq + country_counts.TargetFreq"
   ]
  },
  {
   "cell_type": "code",
   "execution_count": 64,
   "metadata": {
    "collapsed": false
   },
   "outputs": [
    {
     "data": {
      "text/html": [
       "<div>\n",
       "<table border=\"1\" class=\"dataframe\">\n",
       "  <thead>\n",
       "    <tr style=\"text-align: right;\">\n",
       "      <th></th>\n",
       "      <th>SourceFreq</th>\n",
       "      <th>TargetFreq</th>\n",
       "      <th>Total</th>\n",
       "    </tr>\n",
       "  </thead>\n",
       "  <tbody>\n",
       "    <tr>\n",
       "      <th>India</th>\n",
       "      <td>43053</td>\n",
       "      <td>16617</td>\n",
       "      <td>59670</td>\n",
       "    </tr>\n",
       "    <tr>\n",
       "      <th>United States</th>\n",
       "      <td>14453</td>\n",
       "      <td>6411</td>\n",
       "      <td>20864</td>\n",
       "    </tr>\n",
       "    <tr>\n",
       "      <th>Egypt</th>\n",
       "      <td>12887</td>\n",
       "      <td>6304</td>\n",
       "      <td>19191</td>\n",
       "    </tr>\n",
       "    <tr>\n",
       "      <th>Thailand</th>\n",
       "      <td>13649</td>\n",
       "      <td>5825</td>\n",
       "      <td>19474</td>\n",
       "    </tr>\n",
       "    <tr>\n",
       "      <th>Israel</th>\n",
       "      <td>4983</td>\n",
       "      <td>5815</td>\n",
       "      <td>10798</td>\n",
       "    </tr>\n",
       "    <tr>\n",
       "      <th>Russian Federation</th>\n",
       "      <td>10513</td>\n",
       "      <td>4352</td>\n",
       "      <td>14865</td>\n",
       "    </tr>\n",
       "    <tr>\n",
       "      <th>Turkey</th>\n",
       "      <td>8220</td>\n",
       "      <td>4275</td>\n",
       "      <td>12495</td>\n",
       "    </tr>\n",
       "    <tr>\n",
       "      <th>China</th>\n",
       "      <td>8102</td>\n",
       "      <td>3510</td>\n",
       "      <td>11612</td>\n",
       "    </tr>\n",
       "    <tr>\n",
       "      <th>Indonesia</th>\n",
       "      <td>8330</td>\n",
       "      <td>3315</td>\n",
       "      <td>11645</td>\n",
       "    </tr>\n",
       "    <tr>\n",
       "      <th>Pakistan</th>\n",
       "      <td>7249</td>\n",
       "      <td>3023</td>\n",
       "      <td>10272</td>\n",
       "    </tr>\n",
       "  </tbody>\n",
       "</table>\n",
       "</div>"
      ],
      "text/plain": [
       "                    SourceFreq  TargetFreq  Total\n",
       "India                    43053       16617  59670\n",
       "United States            14453        6411  20864\n",
       "Egypt                    12887        6304  19191\n",
       "Thailand                 13649        5825  19474\n",
       "Israel                    4983        5815  10798\n",
       "Russian Federation       10513        4352  14865\n",
       "Turkey                    8220        4275  12495\n",
       "China                     8102        3510  11612\n",
       "Indonesia                 8330        3315  11645\n",
       "Pakistan                  7249        3023  10272"
      ]
     },
     "execution_count": 64,
     "metadata": {},
     "output_type": "execute_result"
    }
   ],
   "source": [
    "country_counts.sort_values(by=\"TargetFreq\", ascending=False, inplace=True)\n",
    "country_counts.head(10)"
   ]
  },
  {
   "cell_type": "markdown",
   "metadata": {},
   "source": [
    "#### Now, which sectors are most active?"
   ]
  },
  {
   "cell_type": "markdown",
   "metadata": {},
   "source": [
    "##### Initial dataset includes columns (\"Source_Sectors\" and \"Target_Sectors\") that have multiple sectors in each cell. So, we have to separate them out and count them."
   ]
  },
  {
   "cell_type": "code",
   "execution_count": 232,
   "metadata": {
    "collapsed": false
   },
   "outputs": [
    {
     "data": {
      "text/html": [
       "<div>\n",
       "<table border=\"1\" class=\"dataframe\">\n",
       "  <thead>\n",
       "    <tr style=\"text-align: right;\">\n",
       "      <th></th>\n",
       "      <th>Unnamed: 0</th>\n",
       "      <th>Event_ID</th>\n",
       "      <th>Event_Date</th>\n",
       "      <th>Source_Name</th>\n",
       "      <th>Source_Sectors</th>\n",
       "      <th>Source_Country</th>\n",
       "      <th>Event_Text</th>\n",
       "      <th>CAMEO_Code</th>\n",
       "      <th>Intensity</th>\n",
       "      <th>Target_Name</th>\n",
       "      <th>...</th>\n",
       "      <th>City</th>\n",
       "      <th>District</th>\n",
       "      <th>Province</th>\n",
       "      <th>Country</th>\n",
       "      <th>Latitude</th>\n",
       "      <th>Longitude</th>\n",
       "      <th>CAMEO_str</th>\n",
       "      <th>protest_dummy</th>\n",
       "      <th>year</th>\n",
       "      <th>month</th>\n",
       "    </tr>\n",
       "  </thead>\n",
       "  <tbody>\n",
       "    <tr>\n",
       "      <th>0</th>\n",
       "      <td>12</td>\n",
       "      <td>926701</td>\n",
       "      <td>1995-01-01 00:01:00</td>\n",
       "      <td>Protester (Mexico)</td>\n",
       "      <td>Protestors / Popular Opposition / Mobs,Dissident</td>\n",
       "      <td>Mexico</td>\n",
       "      <td>Demonstrate for leadership change</td>\n",
       "      <td>1411</td>\n",
       "      <td>-6.5</td>\n",
       "      <td>Governor (Mexico)</td>\n",
       "      <td>...</td>\n",
       "      <td>Tabasco</td>\n",
       "      <td>Jose Maria Morelos</td>\n",
       "      <td>Estado de Quintana Roo</td>\n",
       "      <td>Mexico</td>\n",
       "      <td>19.9786</td>\n",
       "      <td>-88.685</td>\n",
       "      <td>1411</td>\n",
       "      <td>1</td>\n",
       "      <td>1995</td>\n",
       "      <td>1</td>\n",
       "    </tr>\n",
       "  </tbody>\n",
       "</table>\n",
       "<p>1 rows × 25 columns</p>\n",
       "</div>"
      ],
      "text/plain": [
       "   Unnamed: 0 Event_ID          Event_Date         Source_Name  \\\n",
       "0          12   926701 1995-01-01 00:01:00  Protester (Mexico)   \n",
       "\n",
       "                                     Source_Sectors Source_Country  \\\n",
       "0  Protestors / Popular Opposition / Mobs,Dissident         Mexico   \n",
       "\n",
       "                          Event_Text  CAMEO_Code  Intensity  \\\n",
       "0  Demonstrate for leadership change        1411       -6.5   \n",
       "\n",
       "         Target_Name  ...       City            District  \\\n",
       "0  Governor (Mexico)  ...    Tabasco  Jose Maria Morelos   \n",
       "\n",
       "                 Province  Country Latitude Longitude CAMEO_str protest_dummy  \\\n",
       "0  Estado de Quintana Roo   Mexico  19.9786   -88.685      1411             1   \n",
       "\n",
       "   year  month  \n",
       "0  1995      1  \n",
       "\n",
       "[1 rows x 25 columns]"
      ]
     },
     "execution_count": 232,
     "metadata": {},
     "output_type": "execute_result"
    }
   ],
   "source": [
    "protests_allyears.head(1)"
   ]
  },
  {
   "cell_type": "code",
   "execution_count": 234,
   "metadata": {
    "collapsed": false
   },
   "outputs": [],
   "source": [
    "# Count source sectors\n",
    "source_sectors = defaultdict(int)\n",
    "source_sector_counts = protests_allyears['Source_Sectors'].value_counts()\n",
    "for sectors, count in source_sector_counts.iteritems():\n",
    "    sectors = sectors.split(\",\")\n",
    "    for sector in sectors:\n",
    "        source_sectors[sector] += 1"
   ]
  },
  {
   "cell_type": "code",
   "execution_count": 235,
   "metadata": {
    "collapsed": false
   },
   "outputs": [],
   "source": [
    "# Count Target sectors\n",
    "target_sectors = defaultdict(int)\n",
    "target_sector_counts = protests_allyears['Target_Sectors'].value_counts()\n",
    "for sectors, count in target_sector_counts.iteritems():\n",
    "    sectors = sectors.split(\",\")\n",
    "    for sector in sectors:\n",
    "        target_sectors[sector] += 1"
   ]
  },
  {
   "cell_type": "code",
   "execution_count": 236,
   "metadata": {
    "collapsed": false
   },
   "outputs": [],
   "source": [
    "# Convert into series\n",
    "source_sectors_series = pd.Series(source_sectors)\n",
    "target_sectors_series = pd.Series(target_sectors)\n",
    "# Combine into a dataframe, and fill missing with 0\n",
    "sector_counts = pd.DataFrame({\"SourceFreq\": source_sectors_series,\n",
    "                              \"TargetFreq\": target_sectors_series})\n",
    "\n",
    "sector_counts.fillna(0, inplace=True)\n",
    "sector_counts[\"Total\"] = sector_counts['SourceFreq'] + sector_counts['TargetFreq']"
   ]
  },
  {
   "cell_type": "markdown",
   "metadata": {},
   "source": [
    "#### Now we have a new dataframe with just the numbers of sources and targets. This will let us filter our data a little more, for example by excluding protests where the \"source\" was the government."
   ]
  },
  {
   "cell_type": "code",
   "execution_count": 98,
   "metadata": {
    "collapsed": false
   },
   "outputs": [
    {
     "data": {
      "text/html": [
       "<div>\n",
       "<table border=\"1\" class=\"dataframe\">\n",
       "  <thead>\n",
       "    <tr style=\"text-align: right;\">\n",
       "      <th></th>\n",
       "      <th>SourceFreq</th>\n",
       "      <th>TargetFreq</th>\n",
       "      <th>Total</th>\n",
       "    </tr>\n",
       "  </thead>\n",
       "  <tbody>\n",
       "    <tr>\n",
       "      <th>Parties</th>\n",
       "      <td>5654</td>\n",
       "      <td>4878</td>\n",
       "      <td>10532</td>\n",
       "    </tr>\n",
       "    <tr>\n",
       "      <th>Government</th>\n",
       "      <td>4739</td>\n",
       "      <td>5029</td>\n",
       "      <td>9768</td>\n",
       "    </tr>\n",
       "    <tr>\n",
       "      <th>Ideological</th>\n",
       "      <td>5073</td>\n",
       "      <td>4198</td>\n",
       "      <td>9271</td>\n",
       "    </tr>\n",
       "    <tr>\n",
       "      <th>(National) Major Party</th>\n",
       "      <td>4435</td>\n",
       "      <td>4168</td>\n",
       "      <td>8603</td>\n",
       "    </tr>\n",
       "    <tr>\n",
       "      <th>Executive</th>\n",
       "      <td>3513</td>\n",
       "      <td>3968</td>\n",
       "      <td>7481</td>\n",
       "    </tr>\n",
       "    <tr>\n",
       "      <th>Elite</th>\n",
       "      <td>3209</td>\n",
       "      <td>3824</td>\n",
       "      <td>7033</td>\n",
       "    </tr>\n",
       "    <tr>\n",
       "      <th>Executive Office</th>\n",
       "      <td>2329</td>\n",
       "      <td>3194</td>\n",
       "      <td>5523</td>\n",
       "    </tr>\n",
       "    <tr>\n",
       "      <th>International Religious</th>\n",
       "      <td>1905</td>\n",
       "      <td>1233</td>\n",
       "      <td>3138</td>\n",
       "    </tr>\n",
       "    <tr>\n",
       "      <th>Center Right</th>\n",
       "      <td>1450</td>\n",
       "      <td>1271</td>\n",
       "      <td>2721</td>\n",
       "    </tr>\n",
       "    <tr>\n",
       "      <th>Center Left</th>\n",
       "      <td>1388</td>\n",
       "      <td>1052</td>\n",
       "      <td>2440</td>\n",
       "    </tr>\n",
       "    <tr>\n",
       "      <th>Legislative / Parliamentary</th>\n",
       "      <td>1205</td>\n",
       "      <td>935</td>\n",
       "      <td>2140</td>\n",
       "    </tr>\n",
       "    <tr>\n",
       "      <th>Dissident</th>\n",
       "      <td>1286</td>\n",
       "      <td>644</td>\n",
       "      <td>1930</td>\n",
       "    </tr>\n",
       "    <tr>\n",
       "      <th>Social</th>\n",
       "      <td>1184</td>\n",
       "      <td>700</td>\n",
       "      <td>1884</td>\n",
       "    </tr>\n",
       "    <tr>\n",
       "      <th>(National) Minor Party</th>\n",
       "      <td>1144</td>\n",
       "      <td>656</td>\n",
       "      <td>1800</td>\n",
       "    </tr>\n",
       "    <tr>\n",
       "      <th>Cabinet</th>\n",
       "      <td>908</td>\n",
       "      <td>569</td>\n",
       "      <td>1477</td>\n",
       "    </tr>\n",
       "    <tr>\n",
       "      <th>Far Left</th>\n",
       "      <td>771</td>\n",
       "      <td>678</td>\n",
       "      <td>1449</td>\n",
       "    </tr>\n",
       "    <tr>\n",
       "      <th>International Ethnic</th>\n",
       "      <td>915</td>\n",
       "      <td>532</td>\n",
       "      <td>1447</td>\n",
       "    </tr>\n",
       "    <tr>\n",
       "      <th>International Government Organization</th>\n",
       "      <td>650</td>\n",
       "      <td>457</td>\n",
       "      <td>1107</td>\n",
       "    </tr>\n",
       "    <tr>\n",
       "      <th>Opposition Major Party (Out Of Government)</th>\n",
       "      <td>618</td>\n",
       "      <td>480</td>\n",
       "      <td>1098</td>\n",
       "    </tr>\n",
       "    <tr>\n",
       "      <th>Lower House</th>\n",
       "      <td>490</td>\n",
       "      <td>409</td>\n",
       "      <td>899</td>\n",
       "    </tr>\n",
       "  </tbody>\n",
       "</table>\n",
       "</div>"
      ],
      "text/plain": [
       "                                            SourceFreq  TargetFreq  Total\n",
       "Parties                                           5654        4878  10532\n",
       "Government                                        4739        5029   9768\n",
       "Ideological                                       5073        4198   9271\n",
       "(National) Major Party                            4435        4168   8603\n",
       "Executive                                         3513        3968   7481\n",
       "Elite                                             3209        3824   7033\n",
       "Executive Office                                  2329        3194   5523\n",
       "International Religious                           1905        1233   3138\n",
       "Center Right                                      1450        1271   2721\n",
       "Center Left                                       1388        1052   2440\n",
       "Legislative / Parliamentary                       1205         935   2140\n",
       "Dissident                                         1286         644   1930\n",
       "Social                                            1184         700   1884\n",
       "(National) Minor Party                            1144         656   1800\n",
       "Cabinet                                            908         569   1477\n",
       "Far Left                                           771         678   1449\n",
       "International Ethnic                               915         532   1447\n",
       "International Government Organization              650         457   1107\n",
       "Opposition Major Party (Out Of Government)         618         480   1098\n",
       "Lower House                                        490         409    899"
      ]
     },
     "execution_count": 98,
     "metadata": {},
     "output_type": "execute_result"
    }
   ],
   "source": [
    "sector_counts.sort_values(by='Total', ascending=False).head(20)"
   ]
  }
 ],
 "metadata": {
  "kernelspec": {
   "display_name": "Python 2",
   "language": "python",
   "name": "python2"
  },
  "language_info": {
   "codemirror_mode": {
    "name": "ipython",
    "version": 2
   },
   "file_extension": ".py",
   "mimetype": "text/x-python",
   "name": "python",
   "nbconvert_exporter": "python",
   "pygments_lexer": "ipython2",
   "version": "2.7.11"
  }
 },
 "nbformat": 4,
 "nbformat_minor": 0
}
